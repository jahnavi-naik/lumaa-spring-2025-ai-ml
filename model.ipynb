{
 "cells": [
  {
   "cell_type": "code",
   "execution_count": 98,
   "metadata": {},
   "outputs": [],
   "source": [
    "import pandas as pd\n",
    "from sklearn.feature_extraction.text import TfidfVectorizer\n",
    "from sklearn.metrics.pairwise import cosine_similarity"
   ]
  },
  {
   "cell_type": "markdown",
   "metadata": {},
   "source": [
    "#### Loading and Preprocessing Data"
   ]
  },
  {
   "cell_type": "markdown",
   "metadata": {},
   "source": [
    "The code below took the original dataset of 9998 rows, removed rows with null values, droped all columns except title and overview, and took a random sample of 500 rows. Then, the dataframe was read into a new csv file so it could be easily used and uploaded to github."
   ]
  },
  {
   "cell_type": "code",
   "execution_count": 111,
   "metadata": {},
   "outputs": [],
   "source": [
    "# df = pd.read_csv('top_rated_movies.csv')\n",
    "# df = df[['title', 'overview']]\n",
    "# #drop rows with null values\n",
    "# df.isna().sum()\n",
    "# df = df.dropna(subset=['title', 'overview'])\n",
    "# #remove duplicate rows\n",
    "# df = df.drop_duplicates(subset='title', keep='first')\n",
    "# df = df.sample(n=500, random_state=42)\n",
    "# df.to_csv('data.csv', index=False)\n"
   ]
  },
  {
   "cell_type": "markdown",
   "metadata": {},
   "source": [
    "#### Training TF-IDF Model"
   ]
  },
  {
   "cell_type": "code",
   "execution_count": 115,
   "metadata": {},
   "outputs": [],
   "source": [
    "def prepare_recommender(df):\n",
    "    # stop_words is a parameter that removes common english words(such as \"the\", \"is\", \"and\") that dont provide extra meaning when distinguishing documents \n",
    "    # the token pattern ignores digits and special characters\n",
    "    # the ngram ranges means that the model accounts for both unigrams and bigrams\n",
    "    #min_df = 2 means that words that appear in less than 2 documents are removed\n",
    "    #max features limits the vocab size\n",
    "    vectorizer = TfidfVectorizer(\n",
    "        stop_words='english',\n",
    "        ngram_range=(1, 2),  \n",
    "        max_features=5000, \n",
    "        min_df=2,\n",
    "        token_pattern=r'\\b[a-zA-Z]+\\b'\n",
    "    )\n",
    "    # computes the IDF for each word(fit) and then converts each movie overview into tf-idf vectors based on this vocabulary(transform)\n",
    "    # tfidf_matrix is a sparse matrix that has a row for each movie and a column for each word\n",
    "    tfidf_matrix = vectorizer.fit_transform(df['overview'])\n",
    "\n",
    "    return (vectorizer, tfidf_matrix, df['title'].tolist(), df['overview'].tolist())"
   ]
  },
  {
   "cell_type": "code",
   "execution_count": 116,
   "metadata": {},
   "outputs": [],
   "source": [
    "def get_recommendations(query, vectorizer, tfidf_matrix, titles, overviews):\n",
    "    # Transform the user input into the same TF-IDF space\n",
    "    query_vector = vectorizer.transform([query])\n",
    "\n",
    "    # compute the cosine similarity between user input and movie descriptions and turn into 1-D array\n",
    "    similarities = cosine_similarity(query_vector, tfidf_matrix).flatten()\n",
    "\n",
    "    #sort and get indicies of top 5 movies\n",
    "    top_indices = similarities.argsort()[-5:][::-1]\n",
    "\n",
    "    return [(titles[idx], overviews[idx], similarities[idx]) for idx in top_indices]"
   ]
  },
  {
   "cell_type": "markdown",
   "metadata": {},
   "source": [
    "#### Recommend Movies"
   ]
  },
  {
   "cell_type": "code",
   "execution_count": 117,
   "metadata": {},
   "outputs": [
    {
     "name": "stdout",
     "output_type": "stream",
     "text": [
      "\n",
      "Recommendations for query: 'I love thrilling action movies set in space, with a comedic twist.'\n",
      "\n"
     ]
    },
    {
     "data": {
      "text/html": [
       "<div>\n",
       "<style scoped>\n",
       "    .dataframe tbody tr th:only-of-type {\n",
       "        vertical-align: middle;\n",
       "    }\n",
       "\n",
       "    .dataframe tbody tr th {\n",
       "        vertical-align: top;\n",
       "    }\n",
       "\n",
       "    .dataframe thead th {\n",
       "        text-align: right;\n",
       "    }\n",
       "</style>\n",
       "<table border=\"1\" class=\"dataframe\">\n",
       "  <thead>\n",
       "    <tr style=\"text-align: right;\">\n",
       "      <th></th>\n",
       "      <th>Title</th>\n",
       "      <th>Overview</th>\n",
       "      <th>Similarity Score</th>\n",
       "    </tr>\n",
       "  </thead>\n",
       "  <tbody>\n",
       "    <tr>\n",
       "      <th>0</th>\n",
       "      <td>Monsters vs Aliens</td>\n",
       "      <td>When Susan Murphy is unwittingly clobbered by a meteor full of outer space gunk on her wedding day, she mysteriously grows to 49-feet-11-inches. The military jumps into action and captures Susan, secreting her away to a covert government compound. She is renamed Ginormica and placed in confinement with a ragtag group of Monsters...</td>\n",
       "      <td>0.223936</td>\n",
       "    </tr>\n",
       "    <tr>\n",
       "      <th>1</th>\n",
       "      <td>Camp Rock</td>\n",
       "      <td>When Mitchie gets a chance to attend Camp Rock, her life takes an unpredictable twist, and she learns just how important it is to be true to yourself.</td>\n",
       "      <td>0.142727</td>\n",
       "    </tr>\n",
       "    <tr>\n",
       "      <th>2</th>\n",
       "      <td>Jingle All the Way</td>\n",
       "      <td>Howard Langston, a salesman for a mattress company, is constantly kept busy at his job, disappointing his son. After he misses his son's karate exposition, Howard vows to make it up to him by buying an action figure of his son's favorite television hero for Christmas. Unfortunately for Howard, it is Christmas Eve, and every store is sold out of Turbo Man. Now, Howard must travel all over town and compete with everybody else to find a Turbo Man action figure.</td>\n",
       "      <td>0.128999</td>\n",
       "    </tr>\n",
       "    <tr>\n",
       "      <th>3</th>\n",
       "      <td>Pokémon: The Rise of Darkrai</td>\n",
       "      <td>Ash and friends (this time accompanied by newcomer Dawn) arrive at an idyllic village on their way to their next Pokemon contest, where chaos will soon erupt with the prophecy of two Pokemon Gods (Dialga and Palkia) and the arrival of a mysterious, seemingly deadly Pokemon named Darkrai, which has the power to distort space and time.</td>\n",
       "      <td>0.118958</td>\n",
       "    </tr>\n",
       "    <tr>\n",
       "      <th>4</th>\n",
       "      <td>Kiki, Love to Love</td>\n",
       "      <td>Through five stories, the movie addresses sex and love: Paco and Ana are a marriage looking for reactivate the passion of their sexual relations, long time unsatisfied; Jose Luis tries to recover the affections of his wife Paloma, sit down on a wheelchair after an accident which has limited her mobility; Mª Candelaria and Antonio are a marriage trying by all way to be parents, but she has the trouble that no get an orgasm when make love with him; Álex try to satisfy Natalia's fantasies, while she starts to doubt if he finally will ask her in marriage; and finally, Sandra is a single woman in a permanent searching for a man to fall in love. All them love, fear, live and explore their diverse sexual paraphilias and the different sides of sexuality, trying to find the road to happiness.</td>\n",
       "      <td>0.115024</td>\n",
       "    </tr>\n",
       "  </tbody>\n",
       "</table>\n",
       "</div>"
      ],
      "text/plain": [
       "                          Title  \\\n",
       "0            Monsters vs Aliens   \n",
       "1                     Camp Rock   \n",
       "2            Jingle All the Way   \n",
       "3  Pokémon: The Rise of Darkrai   \n",
       "4            Kiki, Love to Love   \n",
       "\n",
       "                                                                                                                                                                                                                                                                                                                                                                                                                                                                                                                                                                                                                                                                                                                                                                                                                     Overview  \\\n",
       "0                                                                                                                                                                                                                                                                                                                                                                                                                                                                               When Susan Murphy is unwittingly clobbered by a meteor full of outer space gunk on her wedding day, she mysteriously grows to 49-feet-11-inches. The military jumps into action and captures Susan, secreting her away to a covert government compound. She is renamed Ginormica and placed in confinement with a ragtag group of Monsters...   \n",
       "1                                                                                                                                                                                                                                                                                                                                                                                                                                                                                                                                                                                                                                                                      When Mitchie gets a chance to attend Camp Rock, her life takes an unpredictable twist, and she learns just how important it is to be true to yourself.   \n",
       "2                                                                                                                                                                                                                                                                                                                                              Howard Langston, a salesman for a mattress company, is constantly kept busy at his job, disappointing his son. After he misses his son's karate exposition, Howard vows to make it up to him by buying an action figure of his son's favorite television hero for Christmas. Unfortunately for Howard, it is Christmas Eve, and every store is sold out of Turbo Man. Now, Howard must travel all over town and compete with everybody else to find a Turbo Man action figure.   \n",
       "3                                                                                                                                                                                                                                                                                                                                                                                                                                                                             Ash and friends (this time accompanied by newcomer Dawn) arrive at an idyllic village on their way to their next Pokemon contest, where chaos will soon erupt with the prophecy of two Pokemon Gods (Dialga and Palkia) and the arrival of a mysterious, seemingly deadly Pokemon named Darkrai, which has the power to distort space and time.   \n",
       "4  Through five stories, the movie addresses sex and love: Paco and Ana are a marriage looking for reactivate the passion of their sexual relations, long time unsatisfied; Jose Luis tries to recover the affections of his wife Paloma, sit down on a wheelchair after an accident which has limited her mobility; Mª Candelaria and Antonio are a marriage trying by all way to be parents, but she has the trouble that no get an orgasm when make love with him; Álex try to satisfy Natalia's fantasies, while she starts to doubt if he finally will ask her in marriage; and finally, Sandra is a single woman in a permanent searching for a man to fall in love. All them love, fear, live and explore their diverse sexual paraphilias and the different sides of sexuality, trying to find the road to happiness.   \n",
       "\n",
       "   Similarity Score  \n",
       "0          0.223936  \n",
       "1          0.142727  \n",
       "2          0.128999  \n",
       "3          0.118958  \n",
       "4          0.115024  "
      ]
     },
     "execution_count": 117,
     "metadata": {},
     "output_type": "execute_result"
    }
   ],
   "source": [
    "vectorizer, tfidf_matrix, titles, overviews = prepare_recommender(df)\n",
    "\n",
    "query = input('Enter descriptions of movie a you like: ')\n",
    "recommendations = get_recommendations(query, vectorizer, tfidf_matrix, titles, overviews)\n",
    "\n",
    "print(f\"\\nRecommendations for query: '{query}'\\n\")\n",
    "\n",
    "top_5 = pd.DataFrame(recommendations, columns=[\"Title\", \"Overview\", \"Similarity Score\"])\n",
    "top_5"
   ]
  }
 ],
 "metadata": {
  "kernelspec": {
   "display_name": "3.10.1",
   "language": "python",
   "name": "python3"
  },
  "language_info": {
   "codemirror_mode": {
    "name": "ipython",
    "version": 3
   },
   "file_extension": ".py",
   "mimetype": "text/x-python",
   "name": "python",
   "nbconvert_exporter": "python",
   "pygments_lexer": "ipython3",
   "version": "3.10.1"
  }
 },
 "nbformat": 4,
 "nbformat_minor": 2
}
